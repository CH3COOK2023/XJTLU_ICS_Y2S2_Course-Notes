{
 "cells": [
  {
   "cell_type": "markdown",
   "source": [
    "# 使用H2O分类器自动建模"
   ],
   "metadata": {
    "collapsed": false
   },
   "id": "c6906480ba1a763f"
  },
  {
   "cell_type": "code",
   "execution_count": 2,
   "id": "initial_id",
   "metadata": {
    "collapsed": true,
    "ExecuteTime": {
     "end_time": "2024-05-07T08:11:20.449278600Z",
     "start_time": "2024-05-07T08:11:06.087736300Z"
    }
   },
   "outputs": [
    {
     "name": "stdout",
     "output_type": "stream",
     "text": [
      "Checking whether there is an H2O instance running at http://localhost:54321. connected.\n"
     ]
    },
    {
     "data": {
      "text/plain": "--------------------------  -----------------------------\nH2O_cluster_uptime:         38 secs\nH2O_cluster_timezone:       Asia/Shanghai\nH2O_data_parsing_timezone:  UTC\nH2O_cluster_version:        3.46.0.1\nH2O_cluster_version_age:    1 month and 24 days\nH2O_cluster_name:           H2O_from_python_20393_hp1f40\nH2O_cluster_total_nodes:    1\nH2O_cluster_free_memory:    15.27 Gb\nH2O_cluster_total_cores:    16\nH2O_cluster_allowed_cores:  16\nH2O_cluster_status:         locked, healthy\nH2O_connection_url:         http://localhost:54321\nH2O_connection_proxy:       {\"http\": null, \"https\": null}\nH2O_internal_security:      False\nPython_version:             3.11.7 final\n--------------------------  -----------------------------",
      "text/html": "\n<style>\n\n#h2o-table-1.h2o-container {\n  overflow-x: auto;\n}\n#h2o-table-1 .h2o-table {\n  /* width: 100%; */\n  margin-top: 1em;\n  margin-bottom: 1em;\n}\n#h2o-table-1 .h2o-table caption {\n  white-space: nowrap;\n  caption-side: top;\n  text-align: left;\n  /* margin-left: 1em; */\n  margin: 0;\n  font-size: larger;\n}\n#h2o-table-1 .h2o-table thead {\n  white-space: nowrap; \n  position: sticky;\n  top: 0;\n  box-shadow: 0 -1px inset;\n}\n#h2o-table-1 .h2o-table tbody {\n  overflow: auto;\n}\n#h2o-table-1 .h2o-table th,\n#h2o-table-1 .h2o-table td {\n  text-align: right;\n  /* border: 1px solid; */\n}\n#h2o-table-1 .h2o-table tr:nth-child(even) {\n  /* background: #F5F5F5 */\n}\n\n</style>      \n<div id=\"h2o-table-1\" class=\"h2o-container\">\n  <table class=\"h2o-table\">\n    <caption></caption>\n    <thead></thead>\n    <tbody><tr><td>H2O_cluster_uptime:</td>\n<td>38 secs</td></tr>\n<tr><td>H2O_cluster_timezone:</td>\n<td>Asia/Shanghai</td></tr>\n<tr><td>H2O_data_parsing_timezone:</td>\n<td>UTC</td></tr>\n<tr><td>H2O_cluster_version:</td>\n<td>3.46.0.1</td></tr>\n<tr><td>H2O_cluster_version_age:</td>\n<td>1 month and 24 days</td></tr>\n<tr><td>H2O_cluster_name:</td>\n<td>H2O_from_python_20393_hp1f40</td></tr>\n<tr><td>H2O_cluster_total_nodes:</td>\n<td>1</td></tr>\n<tr><td>H2O_cluster_free_memory:</td>\n<td>15.27 Gb</td></tr>\n<tr><td>H2O_cluster_total_cores:</td>\n<td>16</td></tr>\n<tr><td>H2O_cluster_allowed_cores:</td>\n<td>16</td></tr>\n<tr><td>H2O_cluster_status:</td>\n<td>locked, healthy</td></tr>\n<tr><td>H2O_connection_url:</td>\n<td>http://localhost:54321</td></tr>\n<tr><td>H2O_connection_proxy:</td>\n<td>{\"http\": null, \"https\": null}</td></tr>\n<tr><td>H2O_internal_security:</td>\n<td>False</td></tr>\n<tr><td>Python_version:</td>\n<td>3.11.7 final</td></tr></tbody>\n  </table>\n</div>\n"
     },
     "metadata": {},
     "output_type": "display_data"
    }
   ],
   "source": [
    "# 使用h2o分类器自动建模\n",
    "import h2o  \n",
    "\n",
    "# 初始化H2O集群  \n",
    "h2o.init() "
   ]
  },
  {
   "cell_type": "code",
   "execution_count": 3,
   "outputs": [
    {
     "name": "stdout",
     "output_type": "stream",
     "text": [
      "Parse progress: |████████████████████████████████████████████████████████████████| (done) 100%\n",
      "  閿樼競ender    Programme    Total    MCQ    Q1    Q2    Q3    Q4    Q5\n",
      "            1            4       26     24     0     0     2     0     0\n",
      "            2            1       81     48     8     8     6     8     3\n",
      "            2            4       49     33     8     2     6     0     0\n",
      "            2            1       54     33     6     2     4     8     1\n",
      "            1            2       32     24     6     2     0     0     0\n",
      "            2            1       18     18     0     0     0     0     0\n",
      "            2            4       79     39     8     6    14    10     2\n",
      "            2            4       70     36     8     2    14     8     2\n",
      "            2            4       64     30     8     4    14     7     1\n",
      "            1            1       43     21     8     2    12     0     0\n",
      "[581 rows x 9 columns]\n",
      "AutoML progress: |█\n",
      "16:12:07.567: AutoML: XGBoost is not available; skipping it.\n",
      "██████████████████████████████████████████████████████████████| (done) 100%\n",
      "model_id                                                            mean_per_class_error    logloss      rmse       mse\n",
      "StackedEnsemble_BestOfFamily_5_AutoML_1_20240507_161207                         0.457243   0.997721  0.575557  0.331266\n",
      "GBM_grid_1_AutoML_1_20240507_161207_model_319                                   0.461427   0.991795  0.585135  0.342383\n",
      "DeepLearning_grid_1_AutoML_1_20240507_161207_model_8                            0.462915   1.03841   0.567561  0.322126\n",
      "GBM_lr_annealing_selection_AutoML_1_20240507_161207_select_model                0.465516   0.925642  0.573726  0.329162\n",
      "GBM_grid_1_AutoML_1_20240507_161207_model_53                                    0.46717    0.91088   0.573011  0.328342\n",
      "GBM_grid_1_AutoML_1_20240507_161207_model_304                                   0.467985   0.897638  0.56645   0.320866\n",
      "GBM_grid_1_AutoML_1_20240507_161207_model_187                                   0.468352   0.867617  0.562813  0.316758\n",
      "GBM_grid_1_AutoML_1_20240507_161207_model_155                                   0.470625   0.862212  0.56438   0.318525\n",
      "GBM_grid_1_AutoML_1_20240507_161207_model_253                                   0.471076   0.895194  0.566277  0.32067\n",
      "GBM_grid_1_AutoML_1_20240507_161207_model_142                                   0.472132   0.932371  0.576135  0.331932\n",
      "[458 rows x 5 columns]\n",
      "stackedensemble prediction progress: |███████████████████████████████████████████| (done) 100%\n",
      "  predict         p1         p2        p4\n",
      "        4  0.0850871  0.411246   0.503667\n",
      "        4  0.318863   0.288113   0.393024\n",
      "        2  0.0283834  0.486658   0.484958\n",
      "        4  0.0421405  0.351821   0.606039\n",
      "        4  0.0350667  0.412191   0.552743\n",
      "        4  0.0429804  0.444688   0.512332\n",
      "        1  0.672255   0.226098   0.101647\n",
      "        4  0.0369452  0.0279398  0.935115\n",
      "        2  0.0636844  0.518615   0.417701\n",
      "        1  0.851449   0.083736   0.064815\n",
      "[123 rows x 4 columns]\n",
      "Accuracy: None\n"
     ]
    }
   ],
   "source": [
    "# 使用h2o分类器自动建模\n",
    "import h2o  \n",
    "from h2o.automl import H2OAutoML  \n",
    "\n",
    "# 加载数据（这里假设您的CSV文件名为'data.csv'，并且包含'Programme'列作为目标变量）\n",
    "data = h2o.import_file(\"C:\\\\Users\\\\20393\\\\Documents\\\\INT104CwDataset\\\\CW_Data_clear_grade3.csv\")  \n",
    "print(data)\n",
    "# 设置目标变量（label）为'Programme'列  \n",
    "data['Programme'] = data['Programme'].asfactor()  # 确保目标变量是分类类型  \n",
    "\n",
    "# 划分数据集为训练集和测试集  \n",
    "train, test = data.split_frame(ratios=[0.8])  \n",
    "\n",
    "# 设置H2O自动机器学习的参数  \n",
    "aml = H2OAutoML(max_runtime_secs=1200, seed=1)  \n",
    "\n",
    "# 训练模型  \n",
    "aml.train(y=\"Programme\", training_frame=train)  \n",
    "\n",
    "# 查看所有模型的性能  \n",
    "lb = aml.leaderboard  \n",
    "print(lb)  \n",
    "\n",
    "# 获取最佳模型  \n",
    "best_model = aml.leader  \n",
    "\n",
    "# 对测试集进行预测  \n",
    "predictions = best_model.predict(test)  \n",
    "\n",
    "# 查看预测结果  \n",
    "print(predictions)  \n",
    "\n",
    "# 评估模型性能（例如，使用准确率）  \n",
    "accuracy = best_model.model_performance(test)['accuracy']  \n",
    "print(f\"Accuracy: {accuracy}\")"
   ],
   "metadata": {
    "collapsed": false,
    "ExecuteTime": {
     "end_time": "2024-05-07T08:32:46.792289400Z",
     "start_time": "2024-05-07T08:11:42.860091100Z"
    }
   },
   "id": "46710e1e9c9a5bed"
  },
  {
   "cell_type": "code",
   "execution_count": 4,
   "outputs": [
    {
     "name": "stderr",
     "output_type": "stream",
     "text": [
      "D:\\anaconda3\\Lib\\site-packages\\h2o\\frame.py:1983: H2ODependencyWarning: Converting H2O frame to pandas dataframe using single-thread.  For faster conversion using multi-thread, install datatable (for Python 3.9 or lower), or polars and pyarrow (for Python 3.10 or above) and activate it using:\n",
      "\n",
      "with h2o.utils.threading.local_context(polars_enabled=True, datatable_enabled=True):\n",
      "    pandas_df = h2o_df.as_data_frame()\n",
      "\n",
      "  warnings.warn(\"Converting H2O frame to pandas dataframe using single-thread.  For faster conversion using\"\n"
     ]
    },
    {
     "ename": "KeyError",
     "evalue": "'validation_auc'",
     "output_type": "error",
     "traceback": [
      "\u001B[1;31m---------------------------------------------------------------------------\u001B[0m",
      "\u001B[1;31mKeyError\u001B[0m                                  Traceback (most recent call last)",
      "File \u001B[1;32mD:\\anaconda3\\Lib\\site-packages\\pandas\\core\\indexes\\base.py:3802\u001B[0m, in \u001B[0;36mIndex.get_loc\u001B[1;34m(self, key, method, tolerance)\u001B[0m\n\u001B[0;32m   3801\u001B[0m \u001B[38;5;28;01mtry\u001B[39;00m:\n\u001B[1;32m-> 3802\u001B[0m     \u001B[38;5;28;01mreturn\u001B[39;00m \u001B[38;5;28mself\u001B[39m\u001B[38;5;241m.\u001B[39m_engine\u001B[38;5;241m.\u001B[39mget_loc(casted_key)\n\u001B[0;32m   3803\u001B[0m \u001B[38;5;28;01mexcept\u001B[39;00m \u001B[38;5;167;01mKeyError\u001B[39;00m \u001B[38;5;28;01mas\u001B[39;00m err:\n",
      "File \u001B[1;32mD:\\anaconda3\\Lib\\site-packages\\pandas\\_libs\\index.pyx:138\u001B[0m, in \u001B[0;36mpandas._libs.index.IndexEngine.get_loc\u001B[1;34m()\u001B[0m\n",
      "File \u001B[1;32mD:\\anaconda3\\Lib\\site-packages\\pandas\\_libs\\index.pyx:165\u001B[0m, in \u001B[0;36mpandas._libs.index.IndexEngine.get_loc\u001B[1;34m()\u001B[0m\n",
      "File \u001B[1;32mpandas\\_libs\\hashtable_class_helper.pxi:5745\u001B[0m, in \u001B[0;36mpandas._libs.hashtable.PyObjectHashTable.get_item\u001B[1;34m()\u001B[0m\n",
      "File \u001B[1;32mpandas\\_libs\\hashtable_class_helper.pxi:5753\u001B[0m, in \u001B[0;36mpandas._libs.hashtable.PyObjectHashTable.get_item\u001B[1;34m()\u001B[0m\n",
      "\u001B[1;31mKeyError\u001B[0m: 'validation_auc'",
      "\nThe above exception was the direct cause of the following exception:\n",
      "\u001B[1;31mKeyError\u001B[0m                                  Traceback (most recent call last)",
      "Cell \u001B[1;32mIn[4], line 10\u001B[0m\n\u001B[0;32m      7\u001B[0m auc_column_name \u001B[38;5;241m=\u001B[39m \u001B[38;5;124m'\u001B[39m\u001B[38;5;124mvalidation_auc\u001B[39m\u001B[38;5;124m'\u001B[39m  \u001B[38;5;66;03m# 请根据您的实际情况调整列名  \u001B[39;00m\n\u001B[0;32m      9\u001B[0m \u001B[38;5;66;03m# 选择并显示AUC-ROC列  \u001B[39;00m\n\u001B[1;32m---> 10\u001B[0m auc_scores \u001B[38;5;241m=\u001B[39m df_lb[auc_column_name]  \n\u001B[0;32m     11\u001B[0m \u001B[38;5;28mprint\u001B[39m(\u001B[38;5;124m\"\u001B[39m\u001B[38;5;124m模型的AUC-ROC性能:\u001B[39m\u001B[38;5;124m\"\u001B[39m)  \n\u001B[0;32m     12\u001B[0m \u001B[38;5;28mprint\u001B[39m(auc_scores)  \n",
      "File \u001B[1;32mD:\\anaconda3\\Lib\\site-packages\\pandas\\core\\frame.py:3807\u001B[0m, in \u001B[0;36mDataFrame.__getitem__\u001B[1;34m(self, key)\u001B[0m\n\u001B[0;32m   3805\u001B[0m \u001B[38;5;28;01mif\u001B[39;00m \u001B[38;5;28mself\u001B[39m\u001B[38;5;241m.\u001B[39mcolumns\u001B[38;5;241m.\u001B[39mnlevels \u001B[38;5;241m>\u001B[39m \u001B[38;5;241m1\u001B[39m:\n\u001B[0;32m   3806\u001B[0m     \u001B[38;5;28;01mreturn\u001B[39;00m \u001B[38;5;28mself\u001B[39m\u001B[38;5;241m.\u001B[39m_getitem_multilevel(key)\n\u001B[1;32m-> 3807\u001B[0m indexer \u001B[38;5;241m=\u001B[39m \u001B[38;5;28mself\u001B[39m\u001B[38;5;241m.\u001B[39mcolumns\u001B[38;5;241m.\u001B[39mget_loc(key)\n\u001B[0;32m   3808\u001B[0m \u001B[38;5;28;01mif\u001B[39;00m is_integer(indexer):\n\u001B[0;32m   3809\u001B[0m     indexer \u001B[38;5;241m=\u001B[39m [indexer]\n",
      "File \u001B[1;32mD:\\anaconda3\\Lib\\site-packages\\pandas\\core\\indexes\\base.py:3804\u001B[0m, in \u001B[0;36mIndex.get_loc\u001B[1;34m(self, key, method, tolerance)\u001B[0m\n\u001B[0;32m   3802\u001B[0m     \u001B[38;5;28;01mreturn\u001B[39;00m \u001B[38;5;28mself\u001B[39m\u001B[38;5;241m.\u001B[39m_engine\u001B[38;5;241m.\u001B[39mget_loc(casted_key)\n\u001B[0;32m   3803\u001B[0m \u001B[38;5;28;01mexcept\u001B[39;00m \u001B[38;5;167;01mKeyError\u001B[39;00m \u001B[38;5;28;01mas\u001B[39;00m err:\n\u001B[1;32m-> 3804\u001B[0m     \u001B[38;5;28;01mraise\u001B[39;00m \u001B[38;5;167;01mKeyError\u001B[39;00m(key) \u001B[38;5;28;01mfrom\u001B[39;00m \u001B[38;5;21;01merr\u001B[39;00m\n\u001B[0;32m   3805\u001B[0m \u001B[38;5;28;01mexcept\u001B[39;00m \u001B[38;5;167;01mTypeError\u001B[39;00m:\n\u001B[0;32m   3806\u001B[0m     \u001B[38;5;66;03m# If we have a listlike key, _check_indexing_error will raise\u001B[39;00m\n\u001B[0;32m   3807\u001B[0m     \u001B[38;5;66;03m#  InvalidIndexError. Otherwise we fall through and re-raise\u001B[39;00m\n\u001B[0;32m   3808\u001B[0m     \u001B[38;5;66;03m#  the TypeError.\u001B[39;00m\n\u001B[0;32m   3809\u001B[0m     \u001B[38;5;28mself\u001B[39m\u001B[38;5;241m.\u001B[39m_check_indexing_error(key)\n",
      "\u001B[1;31mKeyError\u001B[0m: 'validation_auc'"
     ]
    }
   ],
   "source": [
    "# 假设aml是您的AutoML对象\n",
    "# 将leaderboard转换为DataFrame（如果它还不是的话）  \n",
    "df_lb = lb.as_data_frame()  \n",
    "\n",
    "# 显示包含AUC-ROC的列（列名可能因AutoML库的不同而有所变化）  \n",
    "# 通常，AUC-ROC列会被命名为'validation_auc'或类似的名称  \n",
    "auc_column_name = 'validation_auc'  # 请根据您的实际情况调整列名  \n",
    "\n",
    "# 选择并显示AUC-ROC列  \n",
    "auc_scores = df_lb[auc_column_name]  \n",
    "print(\"模型的AUC-ROC性能:\")  \n",
    "print(auc_scores)  \n",
    "\n",
    "# 如果您还想按AUC-ROC对模型进行排序  \n",
    "sorted_models_by_auc = df_lb.sort_values(by=auc_column_name, ascending=False)  \n",
    "print(\"按AUC-ROC排序的模型:\")  \n",
    "print(sorted_models_by_auc[['model_id', auc_column_name]])"
   ],
   "metadata": {
    "collapsed": false,
    "ExecuteTime": {
     "end_time": "2024-05-07T08:37:34.386639400Z",
     "start_time": "2024-05-07T08:37:31.375137500Z"
    }
   },
   "id": "e122aef73fd2ff41"
  },
  {
   "cell_type": "code",
   "execution_count": null,
   "outputs": [],
   "source": [
    "# # 关闭H2O集群  \n",
    "# h2o.cluster().shutdown()"
   ],
   "metadata": {
    "collapsed": false
   },
   "id": "2431af9b4131f0ed"
  },
  {
   "cell_type": "markdown",
   "source": [
    "# 使用AutoGluon自动化学习（记得切gluon环境）"
   ],
   "metadata": {
    "collapsed": false
   },
   "id": "d2d793a72e961bc7"
  },
  {
   "cell_type": "code",
   "execution_count": null,
   "outputs": [],
   "source": [
    "# from sklearn.ensemble import RandomForestClassifier\n",
    "# from sklearn.metrics import accuracy_score\n",
    "# from sklearn.model_selection import train_test_split\n",
    "# from sklearn.tree import DecisionTreeClassifier, plot_tree\n",
    "# from sklearn import tree\n",
    "# import pandas as pd\n",
    "# import numpy as np\n",
    "# import sklearn as sk\n",
    "# import matplotlib.pyplot as plt\n",
    "# from autogluon.tabular import TabularDataset, TabularPredictor\n",
    "# \n",
    "# df = TabularDataset('cw_data_clear_grade3.csv')"
   ],
   "metadata": {
    "collapsed": false
   },
   "id": "82eea72b8760d13a"
  },
  {
   "cell_type": "code",
   "execution_count": null,
   "outputs": [],
   "source": [
    "# import autosklearn.classification as classifier\n",
    "# import sklearn.datasets\n",
    "# \n",
    "# X, y = sklearn.datasets.load_digits(return_X_y=True)\n",
    "# X_train, X_test, y_train, y_test = sklearn.model_selection.train_test_split(X, y, random_state=42)\n",
    "# \n",
    "# # 设置超参数搜索空间和搜索策略\n",
    "# clf = classifier.AutoSklearnClassifier(\n",
    "#     time_left_for_this_task=120,\n",
    "#     per_run_time_limit=30,\n",
    "#     n_jobs=4,\n",
    "#     include_estimators=[\"random_forest\", \"extra_trees\"],\n",
    "#     include_preprocessors=[\"no_preprocessing\"],\n",
    "#     resampling_strategy=\"holdout\",\n",
    "#     resampling_strategy_arguments={\"train_size\": 0.67},\n",
    "#     ensemble_size=1,\n",
    "#     initial_configurations_via_metalearning=25,\n",
    "#     verbose=2,\n",
    "# )\n",
    "# \n",
    "# # 训练和搜索超参数\n",
    "# clf.fit(X_train, y_train)\n",
    "# \n",
    "# # 预测并计算准确率得分\n",
    "# y_pred = clf.predict(X_test)\n",
    "# accuracy = sklearn.metrics.accuracy_score(y_test, y_pred)\n",
    "# print(\"Accuracy score:\", accuracy)\n",
    "# '''\n",
    "# 在上面的示例中，我们导入了必要的库和数据集，并将digits数据集划分为训练/测试集。然后，我们实例化AutoSklearnClassifier类，并设置一系列超参数，包括时间限制、每个模型的最大运行时间、使用的基本模型（随机森林和极端随机树）、不使用预处理器、留出法作为划分策略等。\n",
    "# \n",
    "# 接下来，我们调用fit函数进行训练和超参数搜索，该函数将自动执行网格搜索并返回性能最好的模型。最后，我们使用predict函数进行预测，并计算分类器的准确率得分。\n",
    "# \n",
    "# 在这个示例中，我们选择了留出法作为划分策略，通过resampling_strategy_arguments参数来控制训练集大小，即train_size=0.67。并且，我们手动指定了使用的基本模型和预处理器，分别是随机森林和极端随机树，以及不使用任何预处理器。同时，我们还设置了verbose参数为2，表示输出更多信息，以便我们更好地理解超参数搜索的过程。\n",
    "# '''"
   ],
   "metadata": {
    "collapsed": false
   },
   "id": "a8856c37e49dfbda"
  },
  {
   "cell_type": "markdown",
   "source": [
    "# LightAutoML"
   ],
   "metadata": {
    "collapsed": false
   },
   "id": "259f7360af0ea4b4"
  },
  {
   "cell_type": "code",
   "execution_count": 5,
   "outputs": [
    {
     "name": "stdout",
     "output_type": "stream",
     "text": [
      "'nlp' extra dependecy package 'gensim' isn't installed. Look at README.md in repo 'LightAutoML' for installation instructions.\n",
      "'nlp' extra dependecy package 'nltk' isn't installed. Look at README.md in repo 'LightAutoML' for installation instructions.\n",
      "'nlp' extra dependecy package 'transformers' isn't installed. Look at README.md in repo 'LightAutoML' for installation instructions.\n",
      "'nlp' extra dependecy package 'gensim' isn't installed. Look at README.md in repo 'LightAutoML' for installation instructions.\n",
      "'nlp' extra dependecy package 'nltk' isn't installed. Look at README.md in repo 'LightAutoML' for installation instructions.\n",
      "'nlp' extra dependecy package 'transformers' isn't installed. Look at README.md in repo 'LightAutoML' for installation instructions.\n"
     ]
    },
    {
     "name": "stderr",
     "output_type": "stream",
     "text": [
      "D:\\anaconda3\\Lib\\site-packages\\tqdm\\auto.py:21: TqdmWarning: IProgress not found. Please update jupyter and ipywidgets. See https://ipywidgets.readthedocs.io/en/stable/user_install.html\n",
      "  from .autonotebook import tqdm as notebook_tqdm\n",
      "D:\\anaconda3\\Lib\\site-packages\\lightautoml\\ml_algo\\dl_model.py:42: UserWarning: 'transformers' - package isn't installed\n",
      "  warnings.warn(\"'transformers' - package isn't installed\")\n",
      "D:\\anaconda3\\Lib\\site-packages\\lightautoml\\text\\embed.py:22: UserWarning: 'transformers' - package isn't installed\n",
      "  warnings.warn(\"'transformers' - package isn't installed\")\n",
      "D:\\anaconda3\\Lib\\site-packages\\lightautoml\\text\\dl_transformers.py:25: UserWarning: 'transformers' - package isn't installed\n",
      "  warnings.warn(\"'transformers' - package isn't installed\")\n"
     ]
    },
    {
     "ename": "TypeError",
     "evalue": "lightautoml.automl.presets.tabular_presets.TabularAutoML() got multiple values for keyword argument 'timeout'",
     "output_type": "error",
     "traceback": [
      "\u001B[1;31m---------------------------------------------------------------------------\u001B[0m",
      "\u001B[1;31mTypeError\u001B[0m                                 Traceback (most recent call last)",
      "Cell \u001B[1;32mIn[5], line 37\u001B[0m\n\u001B[0;32m     28\u001B[0m automl_config \u001B[38;5;241m=\u001B[39m {\n\u001B[0;32m     29\u001B[0m     \u001B[38;5;124m'\u001B[39m\u001B[38;5;124mmetric\u001B[39m\u001B[38;5;124m'\u001B[39m: \u001B[38;5;124m'\u001B[39m\u001B[38;5;124mroc_auc\u001B[39m\u001B[38;5;124m'\u001B[39m,\n\u001B[0;32m     30\u001B[0m     \u001B[38;5;124m'\u001B[39m\u001B[38;5;124mtimeout\u001B[39m\u001B[38;5;124m'\u001B[39m: \u001B[38;5;241m600\u001B[39m,  \u001B[38;5;66;03m# Time limit for training in seconds\u001B[39;00m\n\u001B[0;32m     31\u001B[0m     \u001B[38;5;124m'\u001B[39m\u001B[38;5;124mreader_params\u001B[39m\u001B[38;5;124m'\u001B[39m: {\u001B[38;5;124m'\u001B[39m\u001B[38;5;124mn_jobs\u001B[39m\u001B[38;5;124m'\u001B[39m: \u001B[38;5;241m-\u001B[39m\u001B[38;5;241m1\u001B[39m, \u001B[38;5;124m'\u001B[39m\u001B[38;5;124mcv\u001B[39m\u001B[38;5;124m'\u001B[39m: \u001B[38;5;241m5\u001B[39m, \u001B[38;5;124m'\u001B[39m\u001B[38;5;124mrandom_state\u001B[39m\u001B[38;5;124m'\u001B[39m: \u001B[38;5;241m42\u001B[39m},\n\u001B[0;32m     32\u001B[0m     \u001B[38;5;124m'\u001B[39m\u001B[38;5;124mgeneral_params\u001B[39m\u001B[38;5;124m'\u001B[39m: {\u001B[38;5;124m'\u001B[39m\u001B[38;5;124muse_algos\u001B[39m\u001B[38;5;124m'\u001B[39m: [[\u001B[38;5;124m'\u001B[39m\u001B[38;5;124mlgb\u001B[39m\u001B[38;5;124m'\u001B[39m, \u001B[38;5;124m'\u001B[39m\u001B[38;5;124mcb\u001B[39m\u001B[38;5;124m'\u001B[39m, \u001B[38;5;124m'\u001B[39m\u001B[38;5;124mrf\u001B[39m\u001B[38;5;124m'\u001B[39m], [\u001B[38;5;124m'\u001B[39m\u001B[38;5;124mlgb\u001B[39m\u001B[38;5;124m'\u001B[39m, \u001B[38;5;124m'\u001B[39m\u001B[38;5;124mcb\u001B[39m\u001B[38;5;124m'\u001B[39m], [\u001B[38;5;124m'\u001B[39m\u001B[38;5;124mlgb\u001B[39m\u001B[38;5;124m'\u001B[39m], [\u001B[38;5;124m'\u001B[39m\u001B[38;5;124mcb\u001B[39m\u001B[38;5;124m'\u001B[39m]]},\n\u001B[0;32m     33\u001B[0m }\n\u001B[0;32m     36\u001B[0m \u001B[38;5;66;03m# 假设 'target' 是你的目标变量，其他的都是特征  \u001B[39;00m\n\u001B[1;32m---> 37\u001B[0m automl \u001B[38;5;241m=\u001B[39m TabularAutoML(task\u001B[38;5;241m=\u001B[39mtask, timeout\u001B[38;5;241m=\u001B[39mautoml_config[\u001B[38;5;124m'\u001B[39m\u001B[38;5;124mtimeout\u001B[39m\u001B[38;5;124m'\u001B[39m], \u001B[38;5;241m*\u001B[39m\u001B[38;5;241m*\u001B[39mautoml_config)\n\u001B[0;32m     38\u001B[0m automl\u001B[38;5;241m.\u001B[39mfit(X_train, y_train)\n\u001B[0;32m     40\u001B[0m y_pred \u001B[38;5;241m=\u001B[39m automl\u001B[38;5;241m.\u001B[39mpredict(X_test)\n",
      "\u001B[1;31mTypeError\u001B[0m: lightautoml.automl.presets.tabular_presets.TabularAutoML() got multiple values for keyword argument 'timeout'"
     ]
    }
   ],
   "source": [
    "from sklearn.metrics import classification_report\n",
    "import pandas as pd  \n",
    "from lightautoml.tasks import Task  \n",
    "from lightautoml.automl.presets.tabular_presets import TabularAutoML\n",
    "from sklearn.model_selection import train_test_split\n",
    "  \n",
    "# 假设你有一个名为 df 的 pandas DataFrame，其中包含你的特征和目标变量 'target'  \n",
    "# 并且 'target' 是一个多分类变量  \n",
    "  \n",
    "# 1. 加载数据（这里只是假设，你需要根据实际情况加载你的数据）  \n",
    "data = pd.read_csv('CW_Data_clear_grade3.csv')  \n",
    "  \n",
    "# 2. 预处理数据（如果需要的话）  \n",
    "# Define target column\n",
    "target_column = 'Programme'\n",
    "\n",
    "# Split data into features and target\n",
    "X = data.drop(columns=[target_column])\n",
    "y = data[target_column]\n",
    "# Split data into train and test sets\n",
    "X_train, X_test, y_train, y_test = train_test_split(X, y, test_size=0.3, random_state=42)\n",
    "  \n",
    "# 3. 创建 AutoML 对象  \n",
    "# 指定任务类型为多分类（'multiclass'）  \n",
    "task = Task('multiclass', )  # or 'multiclass' for multi-class classification\n",
    "\n",
    "# LightAutoML configuration\n",
    "automl_config = {\n",
    "    'metric': 'roc_auc',\n",
    "    'timeout': 600,  # Time limit for training in seconds\n",
    "    'reader_params': {'n_jobs': -1, 'cv': 5, 'random_state': 42},\n",
    "    'general_params': {'use_algos': [['lgb', 'cb', 'rf'], ['lgb', 'cb'], ['lgb'], ['cb']]},\n",
    "}\n",
    " \n",
    "  \n",
    "# 假设 'target' 是你的目标变量，其他的都是特征  \n",
    "automl = TabularAutoML(task=task, timeout=automl_config['timeout'], **automl_config)\n",
    "automl.fit(X_train, y_train)\n",
    "\n",
    "y_pred = automl.predict(X_test)\n",
    "\n",
    "from sklearn.metrics import accuracy_score, roc_auc_score\n",
    "\n",
    "# Example metrics (use appropriate metrics for your task)\n",
    "accuracy = accuracy_score(y_test, y_pred.data)\n",
    "roc_auc = roc_auc_score(y_test, y_pred.data[:, 0])\n",
    "\n",
    "print(f\"Accuracy: {accuracy}\")\n",
    "print(f\"ROC AUC: {roc_auc}\")\n",
    "\n",
    "report = classification_report(y_test, y_pred)  \n",
    "print(report)"
   ],
   "metadata": {
    "collapsed": false,
    "ExecuteTime": {
     "end_time": "2024-05-07T15:32:31.683250300Z",
     "start_time": "2024-05-07T15:32:28.809108800Z"
    }
   },
   "id": "e10090a73f67f9a1"
  },
  {
   "cell_type": "markdown",
   "source": [],
   "metadata": {
    "collapsed": false
   },
   "id": "7d586e801f05d450"
  }
 ],
 "metadata": {
  "kernelspec": {
   "display_name": "Python 3",
   "language": "python",
   "name": "python3"
  },
  "language_info": {
   "codemirror_mode": {
    "name": "ipython",
    "version": 2
   },
   "file_extension": ".py",
   "mimetype": "text/x-python",
   "name": "python",
   "nbconvert_exporter": "python",
   "pygments_lexer": "ipython2",
   "version": "2.7.6"
  }
 },
 "nbformat": 4,
 "nbformat_minor": 5
}
